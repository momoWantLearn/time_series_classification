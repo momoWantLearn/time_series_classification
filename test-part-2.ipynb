{
 "cells": [
  {
   "cell_type": "code",
   "execution_count": null,
   "metadata": {},
   "outputs": [],
   "source": [
    "import seaborn as sns\n",
    "import pandas as pd\n",
    "import numpy as np\n",
    "import matplotlib.pyplot as plt\n",
    "import matplotlib.dates as mdates"
   ]
  },
  {
   "cell_type": "code",
   "execution_count": null,
   "metadata": {},
   "outputs": [],
   "source": [
    "# Loading the ETTh1 dataset\n",
    "from sklearn.linear_model import LinearRegression\n",
    "\n",
    "print(\"ok.csv\")\n",
    "df = pd.read_csv(\"exchange_rate_with_missing.csv\")\n",
    "\n",
    "df[\"0\"][0]\n",
    "\n",
    "pd.isna(df[\"0\"][1])\n",
    "def Compare(df,test):\n",
    "        for v in range(7):\n",
    "            df_temp=[]\n",
    "            df_6temp=[]\n",
    "            liste_6=[]\n",
    "            for i in range(len(df[\"0\"])) :\n",
    "                if not(pd.isna(df[f\"{v}\"][i])) and not(pd.isna(df[test][i])):\n",
    "                        df_temp.append(df[f\"{v}\"][i])\n",
    "                        df_6temp.append(df[test][i])\n",
    "            \n",
    "            print(df_temp)\n",
    "            model = LinearRegression()\n",
    "            model.fit(np.array(df_temp).reshape(-1, 1), np.array(df_6temp).reshape(-1, 1))\n",
    "            plt.plot(df_temp,df_6temp)\n",
    "            for i in range(len(df_temp)):\n",
    "                liste_6.append(model.predict(np.array(df_temp[i]).reshape(-1, 1))[0])\n",
    "            plt.plot(df_temp, liste_6, 'o-', label='Données réelles',color=\"g\")\n",
    "            plt.xlabel(f'{v} value')\n",
    "            plt.ylabel('6 value')\n",
    "            plt.show()\n",
    "        for v in [\"OT\"]:\n",
    "            df_temp=[]\n",
    "            df_6temp=[]\n",
    "            liste_6=[]\n",
    "            for i in range(len(df[\"0\"])) :\n",
    "                if not(pd.isna(df[f\"{v}\"][i])) and not(pd.isna(df[test][i])):\n",
    "                        df_temp.append(df[f\"{v}\"][i])\n",
    "                        df_6temp.append(df[test][i])\n",
    "            \n",
    "            print(df_temp)\n",
    "            model = LinearRegression()\n",
    "            model.fit(np.array(df_temp).reshape(-1, 1), np.array(df_6temp).reshape(-1, 1))\n",
    "            plt.plot(df_temp,df_6temp)\n",
    "            for i in range(len(df_temp)):\n",
    "                liste_6.append(model.predict(np.array(df_temp[i]).reshape(-1, 1))[0])\n",
    "            plt.plot(df_temp, liste_6, 'o-', label='Données réelles',color=\"g\")\n",
    "            plt.xlabel(f'{v} value')\n",
    "            plt.ylabel('6 value')\n",
    "            plt.show()\n",
    "Compare(df,\"6\")"
   ]
  },
  {
   "cell_type": "code",
   "execution_count": null,
   "metadata": {},
   "outputs": [],
   "source": [
    "\n",
    "def CompleteValue(df,valueForfill,valueFill):\n",
    "    df_temp=[]\n",
    "    df_6temp=[]\n",
    "    liste_6=[]\n",
    "    #valeur plus corélé c'est 0\n",
    "    for i in range(len(df[valueFill])) :\n",
    "        if not(pd.isna(df[valueForfill][i])) and not(pd.isna(df[valueFill][i])):\n",
    "                    df_temp.append(df[valueForfill][i])\n",
    "                    df_6temp.append(df[valueFill][i])\n",
    "        \n",
    "    model = LinearRegression()\n",
    "    model.fit(np.array(df_temp).reshape(-1, 1), np.array(df_6temp).reshape(-1, 1))\n",
    "    plt.plot(df_temp,df_6temp)\n",
    "    for i in range(len(df_temp)):\n",
    "        liste_6.append(model.predict(np.array(df_temp[i]).reshape(-1, 1))[0])\n",
    "    plt.plot(df_temp, liste_6, 'o-', label='Données réelles',color='b')\n",
    "    plt.xlabel(f'{valueForfill} value')\n",
    "    plt.ylabel(f'{valueFill} value')\n",
    "    plt.show()\n",
    "    for i in range(len(df[valueFill])-1):\n",
    "        if pd.isna(df[valueFill][i]) and not(pd.isna(df[valueForfill][i])) :\n",
    "            df.loc[i,valueFill]=model.predict(np.array(df[valueForfill][i]).reshape(-1, 1))[0]\n",
    "    df[\"6\"].isnull()\n",
    "\n",
    "CompleteValue(df,\"3\",\"6\")\n",
    "Compare(df,\"6\")\n",
    "CompleteValue(df,\"0\",\"6\")\n",
    "CompleteValue(df,\"5\",\"6\")\n",
    "Compare(df,\"6\")\n",
    "    \n",
    "new_df=df[[\"date\",\"6\"]]\n",
    "new_df['date'] = pd.to_datetime(new_df['date'])\n",
    "new_df.set_index('date', inplace=True)\n",
    "new_df.interpolate(method='time', inplace=True)\n",
    "new_df.to_csv(\"ok.csv\", index=True)\n"
   ]
  },
  {
   "cell_type": "code",
   "execution_count": null,
   "metadata": {},
   "outputs": [],
   "source": [
    "df = pd.read_csv(\"ok.csv\")\n",
    "df"
   ]
  }
 ],
 "metadata": {
  "kernelspec": {
   "display_name": "Python 3",
   "language": "python",
   "name": "python3"
  },
  "language_info": {
   "codemirror_mode": {
    "name": "ipython",
    "version": 3
   },
   "file_extension": ".py",
   "mimetype": "text/x-python",
   "name": "python",
   "nbconvert_exporter": "python",
   "pygments_lexer": "ipython3",
   "version": "3.10.11"
  }
 },
 "nbformat": 4,
 "nbformat_minor": 2
}
